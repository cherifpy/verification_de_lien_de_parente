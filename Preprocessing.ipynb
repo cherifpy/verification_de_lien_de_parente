{
  "nbformat": 4,
  "nbformat_minor": 0,
  "metadata": {
    "colab": {
      "name": "Preprocessing.ipynb",
      "provenance": [],
      "collapsed_sections": []
    },
    "kernelspec": {
      "name": "python3",
      "display_name": "Python 3"
    },
    "language_info": {
      "name": "python"
    }
  },
  "cells": [
    {
      "cell_type": "markdown",
      "metadata": {
        "id": "MQgfXoteM-TZ"
      },
      "source": [
        "Le but de ce code est de prétraiter toutes les images et produire une copie du dataset contenant ces images traitées."
      ]
    },
    {
      "cell_type": "code",
      "metadata": {
        "id": "kxBRzcNvDI9e"
      },
      "source": [
        "from google.colab import drive\n",
        "drive.mount('/content/drive')"
      ],
      "execution_count": null,
      "outputs": []
    },
    {
      "cell_type": "code",
      "metadata": {
        "id": "LuTmKBjnLkus"
      },
      "source": [
        "!cp '/content/drive/MyDrive/fiw-bs-kin.zip' 'fiw-bs-kin.zip'"
      ],
      "execution_count": null,
      "outputs": []
    },
    {
      "cell_type": "code",
      "metadata": {
        "id": "EE1BPMbiNbvo"
      },
      "source": [
        "from zipfile import ZipFile\n",
        "\n",
        "with ZipFile('fiw-bs-kin.zip') as zip:\n",
        "    zip.extractall('Dataset')\n",
        "    print('File is unzipped in temp folder')"
      ],
      "execution_count": null,
      "outputs": []
    },
    {
      "cell_type": "code",
      "metadata": {
        "id": "y2l31yD1Ltr7"
      },
      "source": [
        "import os\n",
        "import numpy as np\n",
        "from imageio import imread\n",
        "import tensorflow as tf\n",
        "import cv2\n",
        "from zipfile import ZipFile\n",
        "\n",
        "def process_image(imagePath):\n",
        "  visage = cv2.imread(imagePath)\n",
        "  visage = tf.image.resize(visage,size=(128,128)) # changement de dimension\n",
        "  visage = np.array(visage)\n",
        "  cv2.imwrite(imagePath, visage.astype(np.uint8))\n",
        "\n",
        "num = 0\n",
        "with ZipFile('fiw-bs-kin_processed.zip', 'w') as ZipObj:\n",
        "    # Passer par touts les fichiers et les sous-dossier du dataset décompressé\n",
        "    for folder, sub_folders, fnames in os.walk('./Dataset'):\n",
        "        for fname in fnames:\n",
        "            fpath = folder + '/' + fname\n",
        "            if fname.endswith('.jpg'):\n",
        "                process_image(fpath)\n",
        "            ZipObj.write(fpath)\n",
        "            num = num + 1\n",
        "            if num % 100 == 0:\n",
        "                print('%d Fichiers traités'%(num))"
      ],
      "execution_count": null,
      "outputs": []
    },
    {
      "cell_type": "code",
      "metadata": {
        "id": "BbUuEAE_Qa0v",
        "colab": {
          "base_uri": "https://localhost:8080/",
          "height": 69
        },
        "outputId": "2e65a6eb-eb98-4434-a4fb-c738116d996a"
      },
      "source": [
        "!cp 'fiw-bs-kin_processed.zip' '/content/drive/MyDrive/fiw-bs-kin_processed.zip'\n"
      ],
      "execution_count": null,
      "outputs": [
        {
          "output_type": "execute_result",
          "data": {
            "application/vnd.google.colaboratory.intrinsic+json": {
              "type": "string"
            },
            "text/plain": [
              "'visage = cv2.cvtColor(image, cv2.COLOR_BGR2GRAY)\\n  \\n  faceCascade = cv2.CascadeClassifier(cv2.data.haarcascades + \"haarcascade_frontalface_default.xml\")\\n  faces = faceCascade.detectMultiScale(\\n    gray,\\n    scaleFactor=1.3,\\n    minNeighbors=3,\\n    minSize=(30, 30)\\n  )\\n  visage = image\\n  if len(faces) != 0:\\n    (x, y, w, h) = faces[0]\\n    visage = image [y:y + h, x:x + w]\\n  '"
            ]
          },
          "metadata": {
            "tags": []
          },
          "execution_count": 7
        }
      ]
    }
  ]
}